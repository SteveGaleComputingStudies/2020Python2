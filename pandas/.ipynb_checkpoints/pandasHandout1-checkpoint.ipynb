{
 "cells": [
  {
   "cell_type": "code",
   "execution_count": 2,
   "metadata": {},
   "outputs": [
    {
     "name": "stdout",
     "output_type": "stream",
     "text": [
      "   Room  Temperature\n",
      "0  E223         22.1\n",
      "1  E222         21.4\n",
      "2  E208         23.5\n",
      "3  E219         22.6\n"
     ]
    }
   ],
   "source": [
    "import pandas as pd\n",
    "roomTemps = {'Room': ['E223','E222','E208','E219'],\n",
    " 'Temperature': [22.1,21.4,23.5,22.6]\n",
    " }\n",
    "df = pd.DataFrame(roomTemps, columns = ['Room', 'Temperature']) \n",
    "# set up pandas DataFrame from dictionary\n",
    "print (df)"
   ]
  },
  {
   "cell_type": "code",
   "execution_count": null,
   "metadata": {},
   "outputs": [],
   "source": []
  }
 ],
 "metadata": {
  "kernelspec": {
   "display_name": "Python 3",
   "language": "python",
   "name": "python3"
  },
  "language_info": {
   "codemirror_mode": {
    "name": "ipython",
    "version": 3
   },
   "file_extension": ".py",
   "mimetype": "text/x-python",
   "name": "python",
   "nbconvert_exporter": "python",
   "pygments_lexer": "ipython3",
   "version": "3.6.5"
  }
 },
 "nbformat": 4,
 "nbformat_minor": 4
}
